{
  "nbformat": 4,
  "nbformat_minor": 0,
  "metadata": {
    "colab": {
      "name": "housing_5",
      "provenance": [],
      "collapsed_sections": [
        "P4W3kavOM6UK",
        "wSNmaPr1UalX",
        "ipRNv2bKpX8a"
      ],
      "machine_shape": "hm"
    },
    "kernelspec": {
      "name": "python3",
      "display_name": "Python 3"
    },
    "accelerator": "GPU"
  },
  "cells": [
    {
      "cell_type": "markdown",
      "metadata": {
        "id": "SyC-rKsQJen0"
      },
      "source": [
        "### keras DNN으로 집 값 예측하기"
      ]
    },
    {
      "cell_type": "markdown",
      "metadata": {
        "id": "6NkDV9WKMiHi"
      },
      "source": [
        "### 1. 패키지 수입 및 하이퍼 파라미터 지정"
      ]
    },
    {
      "cell_type": "markdown",
      "metadata": {
        "id": "dAWeUGViJvH8"
      },
      "source": [
        "패키지 수입"
      ]
    },
    {
      "cell_type": "code",
      "metadata": {
        "id": "fBXA26XoJQEM"
      },
      "source": [
        "import pandas as pd\r\n",
        "import matplotlib.pyplot as plt\r\n",
        "import seaborn as sns\r\n",
        "from time import time\r\n",
        "\r\n",
        "from keras.models import Sequential\r\n",
        "from keras.layers import Dense\r\n",
        "from sklearn.preprocessing import StandardScaler\r\n",
        "from sklearn.model_selection import train_test_split\r\n",
        "from keras.optimizers import SGD"
      ],
      "execution_count": 1,
      "outputs": []
    },
    {
      "cell_type": "markdown",
      "metadata": {
        "id": "lUfKeBTQLLai"
      },
      "source": [
        "하이퍼 파라미터 지정"
      ]
    },
    {
      "cell_type": "code",
      "metadata": {
        "id": "QWTbTP8WLK-7"
      },
      "source": [
        "MY_HIDDEN = 3000\r\n",
        "MY_EPOCH = 1000\r\n",
        "MY_BATCH = 64\r\n",
        "pd.set_option('display.max_columns', None)\r\n",
        "import numpy as np\r\n",
        "np.random.seed(13)"
      ],
      "execution_count": 2,
      "outputs": []
    },
    {
      "cell_type": "markdown",
      "metadata": {
        "id": "P4W3kavOM6UK"
      },
      "source": [
        "### 2. 데이터 불러 오기 및 선처리"
      ]
    },
    {
      "cell_type": "markdown",
      "metadata": {
        "id": "3l5_jfoqNHfz"
      },
      "source": [
        "데이터 파일 읽기\\\r\n",
        "결과는 pandas의 데이터 프레임 형식"
      ]
    },
    {
      "cell_type": "code",
      "metadata": {
        "id": "OC3f0RQoNq0z"
      },
      "source": [
        "heading = ['CRIM', 'ZN', 'INDUS', 'CHAS', 'NOX', 'RM', 'AGE', 'DIS', 'RAD', 'TAX', 'PTRATIO', 'LSTAT', 'MEDV']\r\n",
        "\r\n",
        "raw = pd.read_csv('/content/drive/MyDrive/housing.csv')"
      ],
      "execution_count": 3,
      "outputs": []
    },
    {
      "cell_type": "markdown",
      "metadata": {
        "id": "aM7_ROt6ONHz"
      },
      "source": [
        "데이터 원본 출력"
      ]
    },
    {
      "cell_type": "code",
      "metadata": {
        "colab": {
          "base_uri": "https://localhost:8080/"
        },
        "id": "uvAAnKveOTwK",
        "outputId": "0fb36f1e-d45e-41dd-f7e1-4a2a974faab9"
      },
      "source": [
        "print('원본 데이터 샘플 10개')\r\n",
        "print(raw.head(10))\r\n",
        "\r\n",
        "print('원본 데이터 통계')\r\n",
        "print(raw.describe())"
      ],
      "execution_count": 4,
      "outputs": [
        {
          "output_type": "stream",
          "text": [
            "원본 데이터 샘플 10개\n",
            "      CRIM    ZN  INDUS  CHAS    NOX     RM    AGE     DIS  RAD  TAX  PTRATIO  \\\n",
            "0  0.00632  18.0   2.31     0  0.538  6.575   65.2  4.0900    1  296     15.3   \n",
            "1  0.02731   0.0   7.07     0  0.469  6.421   78.9  4.9671    2  242     17.8   \n",
            "2  0.02729   0.0   7.07     0  0.469  7.185   61.1  4.9671    2  242     17.8   \n",
            "3  0.03237   0.0   2.18     0  0.458  6.998   45.8  6.0622    3  222     18.7   \n",
            "4  0.06905   0.0   2.18     0  0.458  7.147   54.2  6.0622    3  222     18.7   \n",
            "5  0.02985   0.0   2.18     0  0.458  6.430   58.7  6.0622    3  222     18.7   \n",
            "6  0.08829  12.5   7.87     0  0.524  6.012   66.6  5.5605    5  311     15.2   \n",
            "7  0.14455  12.5   7.87     0  0.524  6.172   96.1  5.9505    5  311     15.2   \n",
            "8  0.21124  12.5   7.87     0  0.524  5.631  100.0  6.0821    5  311     15.2   \n",
            "9  0.17004  12.5   7.87     0  0.524  6.004   85.9  6.5921    5  311     15.2   \n",
            "\n",
            "   LSTAT  MEDV  \n",
            "0   4.98  24.0  \n",
            "1   9.14  21.6  \n",
            "2   4.03  34.7  \n",
            "3   2.94  33.4  \n",
            "4   5.33  36.2  \n",
            "5   5.21  28.7  \n",
            "6  12.43  22.9  \n",
            "7  19.15  27.1  \n",
            "8  29.93  16.5  \n",
            "9  17.10  18.9  \n",
            "원본 데이터 통계\n",
            "             CRIM          ZN       INDUS        CHAS         NOX          RM  \\\n",
            "count  506.000000  506.000000  506.000000  506.000000  506.000000  506.000000   \n",
            "mean     3.613524   11.363636   11.136779    0.069170    0.554695    6.284634   \n",
            "std      8.601545   23.322453    6.860353    0.253994    0.115878    0.702617   \n",
            "min      0.006320    0.000000    0.460000    0.000000    0.385000    3.561000   \n",
            "25%      0.082045    0.000000    5.190000    0.000000    0.449000    5.885500   \n",
            "50%      0.256510    0.000000    9.690000    0.000000    0.538000    6.208500   \n",
            "75%      3.677082   12.500000   18.100000    0.000000    0.624000    6.623500   \n",
            "max     88.976200  100.000000   27.740000    1.000000    0.871000    8.780000   \n",
            "\n",
            "              AGE         DIS         RAD         TAX     PTRATIO       LSTAT  \\\n",
            "count  506.000000  506.000000  506.000000  506.000000  506.000000  506.000000   \n",
            "mean    68.574901    3.795043    9.549407  408.237154   18.455534   12.653063   \n",
            "std     28.148861    2.105710    8.707259  168.537116    2.164946    7.141062   \n",
            "min      2.900000    1.129600    1.000000  187.000000   12.600000    1.730000   \n",
            "25%     45.025000    2.100175    4.000000  279.000000   17.400000    6.950000   \n",
            "50%     77.500000    3.207450    5.000000  330.000000   19.050000   11.360000   \n",
            "75%     94.075000    5.188425   24.000000  666.000000   20.200000   16.955000   \n",
            "max    100.000000   12.126500   24.000000  711.000000   22.000000   37.970000   \n",
            "\n",
            "             MEDV  \n",
            "count  506.000000  \n",
            "mean    22.532806  \n",
            "std      9.197104  \n",
            "min      5.000000  \n",
            "25%     17.025000  \n",
            "50%     21.200000  \n",
            "75%     25.000000  \n",
            "max     50.000000  \n"
          ],
          "name": "stdout"
        }
      ]
    },
    {
      "cell_type": "code",
      "metadata": {
        "colab": {
          "base_uri": "https://localhost:8080/",
          "height": 0
        },
        "id": "3cl9HM23Vurx",
        "outputId": "a593475c-8915-4900-837b-bdd019269050"
      },
      "source": [
        "plt.figure(figsize=(15, 8))\r\n",
        "sns.set(font_scale=1.5)\r\n",
        "sns.boxplot(data=raw, palette='dark')"
      ],
      "execution_count": 5,
      "outputs": [
        {
          "output_type": "execute_result",
          "data": {
            "text/plain": [
              "<matplotlib.axes._subplots.AxesSubplot at 0x7f890ee43b38>"
            ]
          },
          "metadata": {
            "tags": []
          },
          "execution_count": 5
        },
        {
          "output_type": "display_data",
          "data": {
            "image/png": "[encoded data removed]",
            "text/plain": [
              "<Figure size 1080x576 with 1 Axes>"
            ]
          },
          "metadata": {
            "tags": [],
            "needs_background": "light"
          }
        }
      ]
    },
    {
      "cell_type": "markdown",
      "metadata": {
        "id": "UA2AVi0VOxHy"
      },
      "source": [
        "Z-점수 정규화\\\r\n",
        "결과는 numpy의 n-차원 행렬 형식"
      ]
    },
    {
      "cell_type": "code",
      "metadata": {
        "id": "LDgN8orwPAPQ"
      },
      "source": [
        "scaler = StandardScaler()\r\n",
        "Z_data = scaler.fit_transform(raw)"
      ],
      "execution_count": 6,
      "outputs": []
    },
    {
      "cell_type": "markdown",
      "metadata": {
        "id": "t6uJ6HVYat7Y"
      },
      "source": [
        "데이터 형식 출력"
      ]
    },
    {
      "cell_type": "code",
      "metadata": {
        "colab": {
          "base_uri": "https://localhost:8080/"
        },
        "id": "b1ZGFqv1amPv",
        "outputId": "47ea46bf-62e0-403c-e4f3-edd8e487f617"
      },
      "source": [
        "print(type(raw))\r\n",
        "print(type(Z_data))"
      ],
      "execution_count": 7,
      "outputs": [
        {
          "output_type": "stream",
          "text": [
            "<class 'pandas.core.frame.DataFrame'>\n",
            "<class 'numpy.ndarray'>\n"
          ],
          "name": "stdout"
        }
      ]
    },
    {
      "cell_type": "markdown",
      "metadata": {
        "id": "sAMAik33PRsz"
      },
      "source": [
        "numpy에서 pandas로 전환\\\r\n",
        "header 정보 복구 필요"
      ]
    },
    {
      "cell_type": "code",
      "metadata": {
        "id": "MV-F6oKGPe7C"
      },
      "source": [
        "Z_data = pd.DataFrame(Z_data, columns=heading)"
      ],
      "execution_count": 8,
      "outputs": []
    },
    {
      "cell_type": "markdown",
      "metadata": {
        "id": "Yy0Bb0GQQQtS"
      },
      "source": [
        "정규화 된 데이터 출력"
      ]
    },
    {
      "cell_type": "code",
      "metadata": {
        "colab": {
          "base_uri": "https://localhost:8080/"
        },
        "id": "XzioEDKtQVlZ",
        "outputId": "79845a03-97d4-4a5a-d7e0-bc6cd0c9000e"
      },
      "source": [
        "print('정규화 된 데이터 샘플 10개')\r\n",
        "print(Z_data.head(10))\r\n",
        "\r\n",
        "print('정규화 된 데이터 통계')\r\n",
        "print(Z_data.describe())"
      ],
      "execution_count": 9,
      "outputs": [
        {
          "output_type": "stream",
          "text": [
            "정규화 된 데이터 샘플 10개\n",
            "       CRIM        ZN     INDUS      CHAS       NOX        RM       AGE  \\\n",
            "0 -0.419782  0.284830 -1.287909 -0.272599 -0.144217  0.413672 -0.120013   \n",
            "1 -0.417339 -0.487722 -0.593381 -0.272599 -0.740262  0.194274  0.367166   \n",
            "2 -0.417342 -0.487722 -0.593381 -0.272599 -0.740262  1.282714 -0.265812   \n",
            "3 -0.416750 -0.487722 -1.306878 -0.272599 -0.835284  1.016303 -0.809889   \n",
            "4 -0.412482 -0.487722 -1.306878 -0.272599 -0.835284  1.228577 -0.511180   \n",
            "5 -0.417044 -0.487722 -1.306878 -0.272599 -0.835284  0.207096 -0.351157   \n",
            "6 -0.410243  0.048772 -0.476654 -0.272599 -0.265154 -0.388411 -0.070229   \n",
            "7 -0.403696  0.048772 -0.476654 -0.272599 -0.265154 -0.160466  0.978808   \n",
            "8 -0.395935  0.048772 -0.476654 -0.272599 -0.265154 -0.931206  1.117494   \n",
            "9 -0.400729  0.048772 -0.476654 -0.272599 -0.265154 -0.399808  0.616090   \n",
            "\n",
            "        DIS       RAD       TAX   PTRATIO     LSTAT      MEDV  \n",
            "0  0.140214 -0.982843 -0.666608 -1.459000 -1.075562  0.159686  \n",
            "1  0.557160 -0.867883 -0.987329 -0.303094 -0.492439 -0.101524  \n",
            "2  0.557160 -0.867883 -0.987329 -0.303094 -1.208727  1.324247  \n",
            "3  1.077737 -0.752922 -1.106115  0.113032 -1.361517  1.182758  \n",
            "4  1.077737 -0.752922 -1.106115  0.113032 -1.026501  1.487503  \n",
            "5  1.077737 -0.752922 -1.106115  0.113032 -1.043322  0.671222  \n",
            "6  0.839244 -0.523001 -0.577519 -1.505237 -0.031268  0.039964  \n",
            "7  1.024638 -0.523001 -0.577519 -1.505237  0.910700  0.497082  \n",
            "8  1.087196 -0.523001 -0.577519 -1.505237  2.421774 -0.656595  \n",
            "9  1.329635 -0.523001 -0.577519 -1.505237  0.623344 -0.395385  \n",
            "정규화 된 데이터 통계\n",
            "               CRIM            ZN         INDUS          CHAS           NOX  \\\n",
            "count  5.060000e+02  5.060000e+02  5.060000e+02  5.060000e+02  5.060000e+02   \n",
            "mean  -8.688702e-17  3.306534e-16  2.804081e-16 -3.100287e-16 -8.071058e-16   \n",
            "std    1.000990e+00  1.000990e+00  1.000990e+00  1.000990e+00  1.000990e+00   \n",
            "min   -4.197819e-01 -4.877224e-01 -1.557842e+00 -2.725986e-01 -1.465882e+00   \n",
            "25%   -4.109696e-01 -4.877224e-01 -8.676906e-01 -2.725986e-01 -9.130288e-01   \n",
            "50%   -3.906665e-01 -4.877224e-01 -2.110985e-01 -2.725986e-01 -1.442174e-01   \n",
            "75%    7.396560e-03  4.877224e-02  1.015999e+00 -2.725986e-01  5.986790e-01   \n",
            "max    9.933931e+00  3.804234e+00  2.422565e+00  3.668398e+00  2.732346e+00   \n",
            "\n",
            "                 RM           AGE           DIS           RAD           TAX  \\\n",
            "count  5.060000e+02  5.060000e+02  5.060000e+02  5.060000e+02  5.060000e+02   \n",
            "mean  -5.978968e-17 -2.650493e-16  8.293761e-17  1.514379e-15 -9.934960e-16   \n",
            "std    1.000990e+00  1.000990e+00  1.000990e+00  1.000990e+00  1.000990e+00   \n",
            "min   -3.880249e+00 -2.335437e+00 -1.267069e+00 -9.828429e-01 -1.313990e+00   \n",
            "25%   -5.686303e-01 -8.374480e-01 -8.056878e-01 -6.379618e-01 -7.675760e-01   \n",
            "50%   -1.084655e-01  3.173816e-01 -2.793234e-01 -5.230014e-01 -4.646726e-01   \n",
            "75%    4.827678e-01  9.067981e-01  6.623709e-01  1.661245e+00  1.530926e+00   \n",
            "max    3.555044e+00  1.117494e+00  3.960518e+00  1.661245e+00  1.798194e+00   \n",
            "\n",
            "            PTRATIO         LSTAT          MEDV  \n",
            "count  5.060000e+02  5.060000e+02  5.060000e+02  \n",
            "mean   4.493551e-16 -1.595123e-16 -4.247810e-16  \n",
            "std    1.000990e+00  1.000990e+00  1.000990e+00  \n",
            "min   -2.707379e+00 -1.531127e+00 -1.908226e+00  \n",
            "25%   -4.880391e-01 -7.994200e-01 -5.994557e-01  \n",
            "50%    2.748590e-01 -1.812536e-01 -1.450593e-01  \n",
            "75%    8.065758e-01  6.030188e-01  2.685231e-01  \n",
            "max    1.638828e+00  3.548771e+00  2.989460e+00  \n"
          ],
          "name": "stdout"
        }
      ]
    },
    {
      "cell_type": "markdown",
      "metadata": {
        "id": "Iv1qTcLRQpih"
      },
      "source": [
        "데이터를 입력과 출력으로 분리"
      ]
    },
    {
      "cell_type": "code",
      "metadata": {
        "colab": {
          "base_uri": "https://localhost:8080/"
        },
        "id": "iMOYSKO9QsX-",
        "outputId": "4f31138c-7efd-4bc2-a94d-c881c10b1eb3"
      },
      "source": [
        "print('\\n분리 전 데이터 모양: ', Z_data.shape)\r\n",
        "X_data = Z_data.drop('MEDV', axis=1)\r\n",
        "Y_data = Z_data['MEDV']\r\n",
        "\r\n",
        "print('\\n분리 후 데이터 모양: ')\r\n",
        "print(X_data.shape)\r\n",
        "print(Y_data.shape)"
      ],
      "execution_count": 10,
      "outputs": [
        {
          "output_type": "stream",
          "text": [
            "\n",
            "분리 전 데이터 모양:  (506, 13)\n",
            "\n",
            "분리 후 데이터 모양: \n",
            "(506, 12)\n",
            "(506,)\n"
          ],
          "name": "stdout"
        }
      ]
    },
    {
      "cell_type": "markdown",
      "metadata": {
        "id": "dt3LNznqS9eh"
      },
      "source": [
        "데이터를 학습용과 평가용으로 분리"
      ]
    },
    {
      "cell_type": "code",
      "metadata": {
        "id": "bCvD2NDtTELG"
      },
      "source": [
        "X_train, X_test, Y_train, Y_test = train_test_split(X_data, Y_data, train_size=0.7)"
      ],
      "execution_count": 11,
      "outputs": []
    },
    {
      "cell_type": "code",
      "metadata": {
        "colab": {
          "base_uri": "https://localhost:8080/"
        },
        "id": "VMgPS3GWTZ-J",
        "outputId": "ab6aa7e0-7ff1-45a8-d7eb-9792bf4662e9"
      },
      "source": [
        "print('\\n학습용 입력 데이터 모양:', X_train.shape)\r\n",
        "print('학습용 출력 데이터 모양:', Y_train.shape)\r\n",
        "print('평가용 입력 데이터 모양:', X_test.shape)\r\n",
        "print('평가용 출력 데이터 모양', Y_test.shape)"
      ],
      "execution_count": 12,
      "outputs": [
        {
          "output_type": "stream",
          "text": [
            "\n",
            "학습용 입력 데이터 모양: (354, 12)\n",
            "학습용 출력 데이터 모양: (354,)\n",
            "평가용 입력 데이터 모양: (152, 12)\n",
            "평가용 출력 데이터 모양 (152,)\n"
          ],
          "name": "stdout"
        }
      ]
    },
    {
      "cell_type": "markdown",
      "metadata": {
        "id": "9p5ULlWLUGih"
      },
      "source": [
        "상자 그림 출력"
      ]
    },
    {
      "cell_type": "code",
      "metadata": {
        "colab": {
          "base_uri": "https://localhost:8080/",
          "height": 0
        },
        "id": "NFON5y7eUI8I",
        "outputId": "7395c8c8-20fd-4fc9-bf51-c5d54abfbe9f"
      },
      "source": [
        "plt.figure(figsize=(23, 8))\r\n",
        "sns.set(font_scale=2)\r\n",
        "sns.boxplot(data=Z_data, palette='dark')\r\n",
        "plt.show()"
      ],
      "execution_count": 13,
      "outputs": [
        {
          "output_type": "display_data",
          "data": {
            "image/png": "[encoded data removed]",
            "text/plain": [
              "<Figure size 1656x576 with 1 Axes>"
            ]
          },
          "metadata": {
            "tags": []
          }
        }
      ]
    },
    {
      "cell_type": "markdown",
      "metadata": {
        "id": "wSNmaPr1UalX"
      },
      "source": [
        "### 3. 인공신경망 구현"
      ]
    },
    {
      "cell_type": "markdown",
      "metadata": {
        "id": "zCIdk-vFUhPA"
      },
      "source": [
        "케라스 DNN 구현"
      ]
    },
    {
      "cell_type": "code",
      "metadata": {
        "colab": {
          "base_uri": "https://localhost:8080/"
        },
        "id": "oNvrQG6TUlwH",
        "outputId": "05e6f5aa-4197-48b7-c5e9-0c857c80b83e"
      },
      "source": [
        "model = Sequential()\r\n",
        "\r\n",
        "input = X_train.shape[1]\r\n",
        "model.add(Dense(units=MY_HIDDEN, input_dim=input, activation='relu'))\r\n",
        "\r\n",
        "model.add(Dense(units=MY_HIDDEN, activation='relu'))\r\n",
        "\r\n",
        "model.add(Dense(units=1))\r\n",
        "\r\n",
        "print('\\nDNN 요약')\r\n",
        "model.summary()"
      ],
      "execution_count": 14,
      "outputs": [
        {
          "output_type": "stream",
          "text": [
            "\n",
            "DNN 요약\n",
            "Model: \"sequential\"\n",
            "_________________________________________________________________\n",
            "Layer (type)                 Output Shape              Param #   \n",
            "=================================================================\n",
            "dense (Dense)                (None, 3000)              39000     \n",
            "_________________________________________________________________\n",
            "dense_1 (Dense)              (None, 3000)              9003000   \n",
            "_________________________________________________________________\n",
            "dense_2 (Dense)              (None, 1)                 3001      \n",
            "=================================================================\n",
            "Total params: 9,045,001\n",
            "Trainable params: 9,045,001\n",
            "Non-trainable params: 0\n",
            "_________________________________________________________________\n"
          ],
          "name": "stdout"
        }
      ]
    },
    {
      "cell_type": "markdown",
      "metadata": {
        "id": "vuQuItpvVJfJ"
      },
      "source": [
        "### 4. 인공신경망 학습"
      ]
    },
    {
      "cell_type": "markdown",
      "metadata": {
        "id": "w4MoirX3VVvo"
      },
      "source": [
        "최적화 함수와 손실 함수 지정"
      ]
    },
    {
      "cell_type": "code",
      "metadata": {
        "colab": {
          "base_uri": "https://localhost:8080/"
        },
        "id": "Poq0cNxhVQR4",
        "outputId": "87726887-f15c-499b-c06e-ce21333d9dda"
      },
      "source": [
        "model.compile(optimizer='sgd', loss='mse') # sgd, rmsprop, adam, nadam / mse, mae\r\n",
        "#(optimizer=SGD(lr = 0.001, momentum = 0.9, decay = 0.0002, nesterov = False)\r\n",
        "print('\\nDNN 학습 시작')\r\n",
        "begin = time()\r\n",
        "\r\n",
        "model.fit(x=X_train, y=Y_train, epochs=MY_EPOCH, batch_size=MY_BATCH, verbose=0)\r\n",
        "end = time()\r\n",
        "print('총 학습 시간: {:.2f}초'.format(end - begin))"
      ],
      "execution_count": 15,
      "outputs": [
        {
          "output_type": "stream",
          "text": [
            "\n",
            "DNN 학습 시작\n",
            "총 학습 시간: 10.04초\n"
          ],
          "name": "stdout"
        }
      ]
    },
    {
      "cell_type": "markdown",
      "metadata": {
        "id": "e4L_jjGnct9H"
      },
      "source": [
        "### 5. 인공신경망 평가"
      ]
    },
    {
      "cell_type": "markdown",
      "metadata": {
        "id": "x78VIbtDcx9Y"
      },
      "source": [
        "신경망 평가 및 손실값 계산"
      ]
    },
    {
      "cell_type": "code",
      "metadata": {
        "colab": {
          "base_uri": "https://localhost:8080/"
        },
        "id": "U7mTdnUacrnC",
        "outputId": "0d72fe68-edf1-41a0-a83b-43aa601fb79d"
      },
      "source": [
        "loss = model.evaluate(x=X_test, y=Y_test, verbose=0)\r\n",
        "\r\n",
        "# print('\\nDNN 평균 제곱 오차 (MSE): {:.2f}'.format(loss))\r\n",
        "print('\\n최종 손실값: {:.2f}'.format(loss))\r\n",
        "print('\\n최종 손실값: ',loss)\r\n",
        "\r\n",
        "#print('첫번째 평가용 데이터 입력')\r\n",
        "#print(X_test[0])\r\n",
        "#print('첫번째 평가용 데이터 출력')\r\n",
        "#print(Y_test[0])\r\n",
        "print(type(X_test))\r\n",
        "print('\\n첫 번째 평가용 데이터 입력\\n')\r\n",
        "print(X_test.iloc[0])\r\n",
        "print('\\n첫 번째 평가용 데이터 출력\\n')\r\n",
        "print(Y_test.iloc[0])"
      ],
      "execution_count": 16,
      "outputs": [
        {
          "output_type": "stream",
          "text": [
            "\n",
            "최종 손실값: 0.13\n",
            "\n",
            "최종 손실값:  0.12816768884658813\n",
            "<class 'pandas.core.frame.DataFrame'>\n",
            "\n",
            "첫 번째 평가용 데이터 입력\n",
            "\n",
            "CRIM       1.327804\n",
            "ZN        -0.487722\n",
            "INDUS      1.015999\n",
            "CHAS      -0.272599\n",
            "NOX        0.512296\n",
            "RM        -1.397069\n",
            "AGE        1.021481\n",
            "DIS       -0.805438\n",
            "RAD        1.661245\n",
            "TAX        1.530926\n",
            "PTRATIO    0.806576\n",
            "LSTAT      1.718101\n",
            "Name: 477, dtype: float64\n",
            "\n",
            "첫 번째 평가용 데이터 출력\n",
            "\n",
            "-1.1463640715083314\n"
          ],
          "name": "stdout"
        }
      ]
    },
    {
      "cell_type": "markdown",
      "metadata": {
        "id": "DIbwv20ndOEA"
      },
      "source": [
        "신경망 활용 및 산포도 출력"
      ]
    },
    {
      "cell_type": "code",
      "metadata": {
        "colab": {
          "base_uri": "https://localhost:8080/",
          "height": 632
        },
        "id": "FeWHN2e-dP0f",
        "outputId": "ee9fc9a3-a198-4d92-b14f-db0be5af4cb3"
      },
      "source": [
        "pred = model.predict(x=X_test)\r\n",
        "plt.figure(figsize=(10,10))\r\n",
        "sns.regplot(x=Y_test, y=pred)\r\n",
        "\r\n",
        "plt.xlabel(\"Actual Values\")\r\n",
        "plt.ylabel(\"Predicted Values\")\r\n",
        "plt.show()"
      ],
      "execution_count": 17,
      "outputs": [
        {
          "output_type": "display_data",
          "data": {
            "image/png": "[encoded data removed]",
            "text/plain": [
              "<Figure size 720x720 with 1 Axes>"
            ]
          },
          "metadata": {
            "tags": []
          }
        }
      ]
    },
    {
      "cell_type": "markdown",
      "metadata": {
        "id": "ipRNv2bKpX8a"
      },
      "source": [
        "### GPU 확인"
      ]
    },
    {
      "cell_type": "code",
      "metadata": {
        "colab": {
          "base_uri": "https://localhost:8080/"
        },
        "id": "-9t9mbXhowd6",
        "outputId": "498a4063-2aeb-4086-def7-f0e102cdfcae"
      },
      "source": [
        "gpu_info = !nvidia-smi\r\n",
        "gpu_info = '\\n'.join(gpu_info)\r\n",
        "if gpu_info.find('failed') >= 0:\r\n",
        "  print('Select the Runtime > \"Change runtime type\" menu to enable a GPU accelerator, ')\r\n",
        "  print('and then re-execute this cell.')\r\n",
        "else:\r\n",
        "  print(gpu_info)"
      ],
      "execution_count": 18,
      "outputs": [
        {
          "output_type": "stream",
          "text": [
            "Sun Jan 10 13:21:01 2021       \n",
            "+-----------------------------------------------------------------------------+\n",
            "| NVIDIA-SMI 460.27.04    Driver Version: 418.67       CUDA Version: 10.1     |\n",
            "|-------------------------------+----------------------+----------------------+\n",
            "| GPU  Name        Persistence-M| Bus-Id        Disp.A | Volatile Uncorr. ECC |\n",
            "| Fan  Temp  Perf  Pwr:Usage/Cap|         Memory-Usage | GPU-Util  Compute M. |\n",
            "|                               |                      |               MIG M. |\n",
            "|===============================+======================+======================|\n",
            "|   0  Tesla V100-SXM2...  Off  | 00000000:00:04.0 Off |                    0 |\n",
            "| N/A   37C    P0    50W / 300W |    751MiB / 16130MiB |      0%      Default |\n",
            "|                               |                      |                 ERR! |\n",
            "+-------------------------------+----------------------+----------------------+\n",
            "                                                                               \n",
            "+-----------------------------------------------------------------------------+\n",
            "| Processes:                                                                  |\n",
            "|  GPU   GI   CI        PID   Type   Process name                  GPU Memory |\n",
            "|        ID   ID                                                   Usage      |\n",
            "|=============================================================================|\n",
            "|  No running processes found                                                 |\n",
            "+-----------------------------------------------------------------------------+\n"
          ],
          "name": "stdout"
        }
      ]
    }
  ]
}